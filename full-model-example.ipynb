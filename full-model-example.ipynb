{
 "cells": [
  {
   "cell_type": "code",
   "execution_count": 2,
   "metadata": {},
   "outputs": [
    {
     "name": "stdout",
     "output_type": "stream",
     "text": [
      "design_matrix.csv\r\n"
     ]
    }
   ],
   "source": [
    "ls ./data"
   ]
  },
  {
   "cell_type": "code",
   "execution_count": 34,
   "metadata": {},
   "outputs": [],
   "source": [
    "import pandas as pd\n",
    "import numpy as np"
   ]
  },
  {
   "cell_type": "code",
   "execution_count": 4,
   "metadata": {},
   "outputs": [],
   "source": [
    "design_matrix = pd.read_csv(\"./data/design_matrix.csv\")"
   ]
  },
  {
   "cell_type": "code",
   "execution_count": 5,
   "metadata": {},
   "outputs": [
    {
     "data": {
      "text/html": [
       "<div>\n",
       "<style scoped>\n",
       "    .dataframe tbody tr th:only-of-type {\n",
       "        vertical-align: middle;\n",
       "    }\n",
       "\n",
       "    .dataframe tbody tr th {\n",
       "        vertical-align: top;\n",
       "    }\n",
       "\n",
       "    .dataframe thead th {\n",
       "        text-align: right;\n",
       "    }\n",
       "</style>\n",
       "<table border=\"1\" class=\"dataframe\">\n",
       "  <thead>\n",
       "    <tr style=\"text-align: right;\">\n",
       "      <th></th>\n",
       "      <th>intercept</th>\n",
       "      <th>CHF</th>\n",
       "      <th>Cancer</th>\n",
       "      <th>DM</th>\n",
       "      <th>DMcx</th>\n",
       "      <th>Dementia</th>\n",
       "      <th>HIV</th>\n",
       "      <th>LiverMild</th>\n",
       "      <th>LiverSevere</th>\n",
       "      <th>MI</th>\n",
       "      <th>Mets</th>\n",
       "      <th>PUD</th>\n",
       "      <th>PVD</th>\n",
       "      <th>Paralysis</th>\n",
       "      <th>Pulmonary</th>\n",
       "      <th>Renal</th>\n",
       "      <th>Rheumatic</th>\n",
       "      <th>Stroke</th>\n",
       "      <th>1_yr_mortality</th>\n",
       "    </tr>\n",
       "  </thead>\n",
       "  <tbody>\n",
       "    <tr>\n",
       "      <th>0</th>\n",
       "      <td>1</td>\n",
       "      <td>0</td>\n",
       "      <td>0</td>\n",
       "      <td>1</td>\n",
       "      <td>1</td>\n",
       "      <td>0</td>\n",
       "      <td>0</td>\n",
       "      <td>0</td>\n",
       "      <td>0</td>\n",
       "      <td>0</td>\n",
       "      <td>0</td>\n",
       "      <td>0</td>\n",
       "      <td>0</td>\n",
       "      <td>0</td>\n",
       "      <td>0</td>\n",
       "      <td>1</td>\n",
       "      <td>0</td>\n",
       "      <td>0</td>\n",
       "      <td>0</td>\n",
       "    </tr>\n",
       "    <tr>\n",
       "      <th>1</th>\n",
       "      <td>1</td>\n",
       "      <td>0</td>\n",
       "      <td>0</td>\n",
       "      <td>0</td>\n",
       "      <td>0</td>\n",
       "      <td>0</td>\n",
       "      <td>0</td>\n",
       "      <td>1</td>\n",
       "      <td>1</td>\n",
       "      <td>0</td>\n",
       "      <td>0</td>\n",
       "      <td>1</td>\n",
       "      <td>0</td>\n",
       "      <td>0</td>\n",
       "      <td>0</td>\n",
       "      <td>0</td>\n",
       "      <td>0</td>\n",
       "      <td>0</td>\n",
       "      <td>1</td>\n",
       "    </tr>\n",
       "    <tr>\n",
       "      <th>2</th>\n",
       "      <td>1</td>\n",
       "      <td>0</td>\n",
       "      <td>0</td>\n",
       "      <td>1</td>\n",
       "      <td>0</td>\n",
       "      <td>0</td>\n",
       "      <td>0</td>\n",
       "      <td>0</td>\n",
       "      <td>0</td>\n",
       "      <td>0</td>\n",
       "      <td>0</td>\n",
       "      <td>0</td>\n",
       "      <td>1</td>\n",
       "      <td>0</td>\n",
       "      <td>0</td>\n",
       "      <td>0</td>\n",
       "      <td>0</td>\n",
       "      <td>0</td>\n",
       "      <td>0</td>\n",
       "    </tr>\n",
       "    <tr>\n",
       "      <th>3</th>\n",
       "      <td>1</td>\n",
       "      <td>0</td>\n",
       "      <td>1</td>\n",
       "      <td>0</td>\n",
       "      <td>0</td>\n",
       "      <td>0</td>\n",
       "      <td>0</td>\n",
       "      <td>0</td>\n",
       "      <td>0</td>\n",
       "      <td>0</td>\n",
       "      <td>1</td>\n",
       "      <td>0</td>\n",
       "      <td>0</td>\n",
       "      <td>0</td>\n",
       "      <td>0</td>\n",
       "      <td>0</td>\n",
       "      <td>0</td>\n",
       "      <td>0</td>\n",
       "      <td>0</td>\n",
       "    </tr>\n",
       "    <tr>\n",
       "      <th>4</th>\n",
       "      <td>1</td>\n",
       "      <td>1</td>\n",
       "      <td>0</td>\n",
       "      <td>0</td>\n",
       "      <td>1</td>\n",
       "      <td>0</td>\n",
       "      <td>0</td>\n",
       "      <td>0</td>\n",
       "      <td>0</td>\n",
       "      <td>1</td>\n",
       "      <td>0</td>\n",
       "      <td>0</td>\n",
       "      <td>1</td>\n",
       "      <td>0</td>\n",
       "      <td>1</td>\n",
       "      <td>1</td>\n",
       "      <td>0</td>\n",
       "      <td>1</td>\n",
       "      <td>0</td>\n",
       "    </tr>\n",
       "  </tbody>\n",
       "</table>\n",
       "</div>"
      ],
      "text/plain": [
       "   intercept  CHF  Cancer  DM  DMcx  Dementia  HIV  LiverMild  LiverSevere  \\\n",
       "0          1    0       0   1     1         0    0          0            0   \n",
       "1          1    0       0   0     0         0    0          1            1   \n",
       "2          1    0       0   1     0         0    0          0            0   \n",
       "3          1    0       1   0     0         0    0          0            0   \n",
       "4          1    1       0   0     1         0    0          0            0   \n",
       "\n",
       "   MI  Mets  PUD  PVD  Paralysis  Pulmonary  Renal  Rheumatic  Stroke  \\\n",
       "0   0     0    0    0          0          0      1          0       0   \n",
       "1   0     0    1    0          0          0      0          0       0   \n",
       "2   0     0    0    1          0          0      0          0       0   \n",
       "3   0     1    0    0          0          0      0          0       0   \n",
       "4   1     0    0    1          0          1      1          0       1   \n",
       "\n",
       "   1_yr_mortality  \n",
       "0               0  \n",
       "1               1  \n",
       "2               0  \n",
       "3               0  \n",
       "4               0  "
      ]
     },
     "execution_count": 5,
     "metadata": {},
     "output_type": "execute_result"
    }
   ],
   "source": [
    "design_matrix.head()"
   ]
  },
  {
   "cell_type": "code",
   "execution_count": 6,
   "metadata": {},
   "outputs": [
    {
     "data": {
      "text/plain": [
       "(18027, 19)"
      ]
     },
     "execution_count": 6,
     "metadata": {},
     "output_type": "execute_result"
    }
   ],
   "source": [
    "design_matrix.shape"
   ]
  },
  {
   "cell_type": "code",
   "execution_count": 7,
   "metadata": {},
   "outputs": [
    {
     "data": {
      "text/plain": [
       "0    12514\n",
       "1     5513\n",
       "Name: 1_yr_mortality, dtype: int64"
      ]
     },
     "execution_count": 7,
     "metadata": {},
     "output_type": "execute_result"
    }
   ],
   "source": [
    "design_matrix['1_yr_mortality'].value_counts()"
   ]
  },
  {
   "cell_type": "code",
   "execution_count": 8,
   "metadata": {},
   "outputs": [],
   "source": [
    "from sklearn.model_selection import train_test_split"
   ]
  },
  {
   "cell_type": "code",
   "execution_count": 10,
   "metadata": {},
   "outputs": [],
   "source": [
    "?train_test_split"
   ]
  },
  {
   "cell_type": "code",
   "execution_count": 11,
   "metadata": {},
   "outputs": [],
   "source": [
    "X_train, X_test, y_train, y_test = (train_test_split(design_matrix\n",
    "                                                     .drop(['intercept', '1_yr_mortality'], axis=1),\n",
    "                                                     design_matrix['1_yr_mortality'], \n",
    "                                                     test_size=0.2)"
   ]
  },
  {
   "cell_type": "code",
   "execution_count": 12,
   "metadata": {},
   "outputs": [
    {
     "name": "stdout",
     "output_type": "stream",
     "text": [
      "X_train shape: (14421, 17)\n",
      "X_test shape: (3606, 17)\n",
      "y_train shape: (14421,)\n",
      "y_test shape: (3606,)\n"
     ]
    }
   ],
   "source": [
    "print(f\"X_train shape: {X_train.shape}\")\n",
    "print(f\"X_test shape: {X_test.shape}\")\n",
    "print(f\"y_train shape: {y_train.shape}\")\n",
    "print(f\"y_test shape: {y_test.shape}\")"
   ]
  },
  {
   "cell_type": "markdown",
   "metadata": {},
   "source": [
    "> sklearn.linear_model.LogisticRegression(penalty='l2', *, dual=False, tol=0.0001, C=1.0, fit_intercept=True, intercept_scaling=1, class_weight=None, random_state=None, solver='lbfgs', max_iter=100, multi_class='auto', verbose=0, warm_start=False, n_jobs=None, l1_ratio=None)[source]"
   ]
  },
  {
   "cell_type": "markdown",
   "metadata": {},
   "source": [
    "## Fit baseline logistic regression "
   ]
  },
  {
   "cell_type": "code",
   "execution_count": 13,
   "metadata": {},
   "outputs": [],
   "source": [
    "from sklearn.linear_model import LogisticRegression"
   ]
  },
  {
   "cell_type": "code",
   "execution_count": 14,
   "metadata": {},
   "outputs": [],
   "source": [
    "baseline_lr = LogisticRegression(C = 10000) # initialize the model"
   ]
  },
  {
   "cell_type": "code",
   "execution_count": 15,
   "metadata": {},
   "outputs": [
    {
     "data": {
      "text/plain": [
       "LogisticRegression(C=10000)"
      ]
     },
     "execution_count": 15,
     "metadata": {},
     "output_type": "execute_result"
    }
   ],
   "source": [
    "baseline_lr.fit(X_train, y_train)"
   ]
  },
  {
   "cell_type": "code",
   "execution_count": 17,
   "metadata": {},
   "outputs": [
    {
     "data": {
      "text/plain": [
       "array([[ 0.6419911 ,  0.9886035 , -0.07583998, -0.24667866,  0.97163875,\n",
       "        -0.11913907,  0.32933161,  0.95722504,  0.03196258,  1.75277846,\n",
       "        -0.08315729,  0.10955607,  0.40024938,  0.11942337,  0.5590673 ,\n",
       "         0.09642577,  0.47948148]])"
      ]
     },
     "execution_count": 17,
     "metadata": {},
     "output_type": "execute_result"
    }
   ],
   "source": [
    "baseline_lr.coef_"
   ]
  },
  {
   "cell_type": "code",
   "execution_count": 20,
   "metadata": {},
   "outputs": [],
   "source": [
    "baseline_preds = baseline_lr.predict_proba(X_test)[:, 1]"
   ]
  },
  {
   "cell_type": "code",
   "execution_count": 21,
   "metadata": {},
   "outputs": [],
   "source": [
    "from sklearn.metrics import roc_auc_score, average_precision_score"
   ]
  },
  {
   "cell_type": "code",
   "execution_count": 25,
   "metadata": {
    "scrolled": true
   },
   "outputs": [
    {
     "name": "stdout",
     "output_type": "stream",
     "text": [
      "AUC for baseline model: 0.7256204094695258\n",
      "Average Precision for baseline model: 0.5360505459869624\n"
     ]
    }
   ],
   "source": [
    "print(f\"AUC for baseline model: {roc_auc_score(y_test, baseline_preds)}\")\n",
    "print(f\"Average Precision for baseline model: {average_precision_score(y_test, baseline_preds)}\")"
   ]
  },
  {
   "cell_type": "code",
   "execution_count": 26,
   "metadata": {},
   "outputs": [],
   "source": [
    "from sklearn.calibration import calibration_curve"
   ]
  },
  {
   "cell_type": "code",
   "execution_count": 27,
   "metadata": {},
   "outputs": [],
   "source": [
    "y_axis, x_axis = calibration_curve(y_test, baseline_preds, n_bins = 10)"
   ]
  },
  {
   "cell_type": "code",
   "execution_count": 28,
   "metadata": {},
   "outputs": [],
   "source": [
    "import matplotlib.pyplot as plt\n",
    "%matplotlib inline"
   ]
  },
  {
   "cell_type": "code",
   "execution_count": 29,
   "metadata": {},
   "outputs": [
    {
     "data": {
      "text/plain": [
       "[<matplotlib.lines.Line2D at 0x7f8bd0a76670>]"
      ]
     },
     "execution_count": 29,
     "metadata": {},
     "output_type": "execute_result"
    },
    {
     "data": {
      "image/png": "[encoded data removed]",
      "text/plain": [
       "<Figure size 432x288 with 1 Axes>"
      ]
     },
     "metadata": {
      "needs_background": "light"
     },
     "output_type": "display_data"
    }
   ],
   "source": [
    "plt.scatter(x_axis, y_axis)\n",
    "plt.plot([1,0], [1,0], linestyle = \"--\", color = \"orange\")"
   ]
  },
  {
   "cell_type": "code",
   "execution_count": 48,
   "metadata": {},
   "outputs": [],
   "source": [
    "c_ = []\n",
    "auc_ = []\n",
    "avg_prec = []\n",
    "penalty_ = []"
   ]
  },
  {
   "cell_type": "code",
   "execution_count": 44,
   "metadata": {},
   "outputs": [],
   "source": [
    "def fit_model_get_metrics(penalty, c, train_x, test_x, train_y, test_y):\n",
    "    \"\"\"For a given value of penalty, and c, get the AUC and average precision and return them \n",
    "    \n",
    "    Arguments:\n",
    "    ----------\n",
    "    penalty : str \n",
    "        One of \"l1\" or \"l2\" to pass to sklearn.linear_model.LogisticRegression\n",
    "    c : Number\n",
    "        A value to pass to the regularization parameter for logistic regression\n",
    "    train_x : np.ndarray\n",
    "        Our training design matrix\n",
    "    test_x : np.ndarray\n",
    "        Our test design matrix\n",
    "    train_y : np.ndarray\n",
    "        Our training labels (1 or 0)\n",
    "    test_y : np.ndarray\n",
    "        Our test labels (1 or 0)\n",
    "    \n",
    "    Returns:\n",
    "    --------\n",
    "    result_auc, result_avg_prec : Number, Number\n",
    "        The resulting metrics for this model run\n",
    "    \"\"\"\n",
    "    # Initialize model\n",
    "    if penalty == \"l1\":\n",
    "        temp_lr = LogisticRegression(penalty=penalty, C=c, solver='saga')\n",
    "    elif penalty == \"l2\":\n",
    "        temp_lr = LogisticRegression(penalty=penalty, C=c)\n",
    "    temp_lr.fit(train_x, train_y)\n",
    "    temp_preds = temp_lr.predict_proba(test_x)[:, 1]\n",
    "    result_auc = roc_auc_score(test_y, temp_preds)\n",
    "    result_avg_prec = average_precision_score(test_y, temp_preds)\n",
    "    return result_auc, result_avg_prec"
   ]
  },
  {
   "cell_type": "code",
   "execution_count": 35,
   "metadata": {},
   "outputs": [],
   "source": [
    "?np.logspace"
   ]
  },
  {
   "cell_type": "code",
   "execution_count": 41,
   "metadata": {},
   "outputs": [],
   "source": [
    "c_array = np.logspace(-4, 2, 5)"
   ]
  },
  {
   "cell_type": "code",
   "execution_count": 49,
   "metadata": {
    "scrolled": false
   },
   "outputs": [],
   "source": [
    "for pen in [\"l1\", \"l2\"]:\n",
    "    for c_weight in c_array:\n",
    "        c_.append(c_weight)\n",
    "        penalty_.append(pen)\n",
    "        temp_auc, temp_avg_prec = fit_model_get_metrics(pen, c_weight, X_train, X_test, y_train, y_test)\n",
    "        auc_.append(temp_auc)\n",
    "        avg_prec.append(temp_avg_prec)"
   ]
  },
  {
   "cell_type": "code",
   "execution_count": 54,
   "metadata": {},
   "outputs": [],
   "source": [
    "result_df = pd.DataFrame({\n",
    "    \"penalty\": penalty_,\n",
    "    \"C\": c_, \n",
    "    \"AUROC\": auc_,\n",
    "    \"Average Precision\": avg_prec\n",
    "})"
   ]
  },
  {
   "cell_type": "code",
   "execution_count": 55,
   "metadata": {},
   "outputs": [
    {
     "data": {
      "text/html": [
       "<div>\n",
       "<style scoped>\n",
       "    .dataframe tbody tr th:only-of-type {\n",
       "        vertical-align: middle;\n",
       "    }\n",
       "\n",
       "    .dataframe tbody tr th {\n",
       "        vertical-align: top;\n",
       "    }\n",
       "\n",
       "    .dataframe thead th {\n",
       "        text-align: right;\n",
       "    }\n",
       "</style>\n",
       "<table border=\"1\" class=\"dataframe\">\n",
       "  <thead>\n",
       "    <tr style=\"text-align: right;\">\n",
       "      <th></th>\n",
       "      <th>penalty</th>\n",
       "      <th>C</th>\n",
       "      <th>AUROC</th>\n",
       "      <th>Average Precision</th>\n",
       "    </tr>\n",
       "  </thead>\n",
       "  <tbody>\n",
       "    <tr>\n",
       "      <th>0</th>\n",
       "      <td>l1</td>\n",
       "      <td>0.000100</td>\n",
       "      <td>0.500000</td>\n",
       "      <td>0.306156</td>\n",
       "    </tr>\n",
       "    <tr>\n",
       "      <th>1</th>\n",
       "      <td>l1</td>\n",
       "      <td>0.003162</td>\n",
       "      <td>0.614288</td>\n",
       "      <td>0.418173</td>\n",
       "    </tr>\n",
       "    <tr>\n",
       "      <th>2</th>\n",
       "      <td>l1</td>\n",
       "      <td>0.100000</td>\n",
       "      <td>0.725639</td>\n",
       "      <td>0.535219</td>\n",
       "    </tr>\n",
       "    <tr>\n",
       "      <th>3</th>\n",
       "      <td>l1</td>\n",
       "      <td>3.162278</td>\n",
       "      <td>0.725681</td>\n",
       "      <td>0.536019</td>\n",
       "    </tr>\n",
       "    <tr>\n",
       "      <th>4</th>\n",
       "      <td>l1</td>\n",
       "      <td>100.000000</td>\n",
       "      <td>0.725624</td>\n",
       "      <td>0.536055</td>\n",
       "    </tr>\n",
       "    <tr>\n",
       "      <th>5</th>\n",
       "      <td>l2</td>\n",
       "      <td>0.000100</td>\n",
       "      <td>0.707154</td>\n",
       "      <td>0.514619</td>\n",
       "    </tr>\n",
       "    <tr>\n",
       "      <th>6</th>\n",
       "      <td>l2</td>\n",
       "      <td>0.003162</td>\n",
       "      <td>0.719273</td>\n",
       "      <td>0.527332</td>\n",
       "    </tr>\n",
       "    <tr>\n",
       "      <th>7</th>\n",
       "      <td>l2</td>\n",
       "      <td>0.100000</td>\n",
       "      <td>0.725417</td>\n",
       "      <td>0.535847</td>\n",
       "    </tr>\n",
       "    <tr>\n",
       "      <th>8</th>\n",
       "      <td>l2</td>\n",
       "      <td>3.162278</td>\n",
       "      <td>0.725652</td>\n",
       "      <td>0.536047</td>\n",
       "    </tr>\n",
       "    <tr>\n",
       "      <th>9</th>\n",
       "      <td>l2</td>\n",
       "      <td>100.000000</td>\n",
       "      <td>0.725620</td>\n",
       "      <td>0.536003</td>\n",
       "    </tr>\n",
       "  </tbody>\n",
       "</table>\n",
       "</div>"
      ],
      "text/plain": [
       "  penalty           C     AUROC  Average Precision\n",
       "0      l1    0.000100  0.500000           0.306156\n",
       "1      l1    0.003162  0.614288           0.418173\n",
       "2      l1    0.100000  0.725639           0.535219\n",
       "3      l1    3.162278  0.725681           0.536019\n",
       "4      l1  100.000000  0.725624           0.536055\n",
       "5      l2    0.000100  0.707154           0.514619\n",
       "6      l2    0.003162  0.719273           0.527332\n",
       "7      l2    0.100000  0.725417           0.535847\n",
       "8      l2    3.162278  0.725652           0.536047\n",
       "9      l2  100.000000  0.725620           0.536003"
      ]
     },
     "execution_count": 55,
     "metadata": {},
     "output_type": "execute_result"
    }
   ],
   "source": [
    "result_df"
   ]
  },
  {
   "cell_type": "code",
   "execution_count": 56,
   "metadata": {},
   "outputs": [
    {
     "data": {
      "text/html": [
       "<div>\n",
       "<style scoped>\n",
       "    .dataframe tbody tr th:only-of-type {\n",
       "        vertical-align: middle;\n",
       "    }\n",
       "\n",
       "    .dataframe tbody tr th {\n",
       "        vertical-align: top;\n",
       "    }\n",
       "\n",
       "    .dataframe thead th {\n",
       "        text-align: right;\n",
       "    }\n",
       "</style>\n",
       "<table border=\"1\" class=\"dataframe\">\n",
       "  <thead>\n",
       "    <tr style=\"text-align: right;\">\n",
       "      <th></th>\n",
       "      <th>penalty</th>\n",
       "      <th>C</th>\n",
       "      <th>AUROC</th>\n",
       "      <th>Average Precision</th>\n",
       "    </tr>\n",
       "  </thead>\n",
       "  <tbody>\n",
       "    <tr>\n",
       "      <th>3</th>\n",
       "      <td>l1</td>\n",
       "      <td>3.162278</td>\n",
       "      <td>0.725681</td>\n",
       "      <td>0.536019</td>\n",
       "    </tr>\n",
       "  </tbody>\n",
       "</table>\n",
       "</div>"
      ],
      "text/plain": [
       "  penalty         C     AUROC  Average Precision\n",
       "3      l1  3.162278  0.725681           0.536019"
      ]
     },
     "execution_count": 56,
     "metadata": {},
     "output_type": "execute_result"
    }
   ],
   "source": [
    "result_df.loc[result_df['AUROC'] == max(result_df['AUROC']), :]"
   ]
  },
  {
   "cell_type": "markdown",
   "metadata": {},
   "source": [
    "# Cross-validation Procedure"
   ]
  },
  {
   "cell_type": "markdown",
   "metadata": {},
   "source": [
    "requirements: \n",
    " * Split into k folds\n",
    " * in each fold, check different penalties, and values of c_\n",
    " * get the error on each test fold for each of those settings\n",
    " * Find the average error in each fold for each setting of penalty and c_\n",
    " * Refit the model using those settings to the full training + validation combination."
   ]
  },
  {
   "cell_type": "code",
   "execution_count": 57,
   "metadata": {
    "scrolled": true
   },
   "outputs": [
    {
     "data": {
      "text/plain": [
       "(18027, 19)"
      ]
     },
     "execution_count": 57,
     "metadata": {},
     "output_type": "execute_result"
    }
   ],
   "source": [
    "design_matrix.shape"
   ]
  },
  {
   "cell_type": "code",
   "execution_count": 58,
   "metadata": {},
   "outputs": [],
   "source": [
    "shuffled_indices = np.random.permutation(range(0, 18027))"
   ]
  },
  {
   "cell_type": "code",
   "execution_count": 62,
   "metadata": {},
   "outputs": [],
   "source": [
    "?np.array_split"
   ]
  },
  {
   "cell_type": "code",
   "execution_count": 64,
   "metadata": {},
   "outputs": [],
   "source": [
    "folds = np.array_split(shuffled_indices, 10)"
   ]
  },
  {
   "cell_type": "code",
   "execution_count": 74,
   "metadata": {},
   "outputs": [
    {
     "data": {
      "text/plain": [
       "[array([14467,  5861, 16675, ...,  6171,   921, 13233]),\n",
       " array([ 2953,  5650,  7634, ..., 16119,  5146,  5850]),\n",
       " array([15812,  8682, 17920, ...,  2492,  4742, 15334]),\n",
       " array([ 8987, 14790,  4326, ...,  9647, 10205, 13391]),\n",
       " array([ 7213,   429, 10395, ..., 16626,   358, 17938]),\n",
       " array([ 2907, 14799,  9337, ..., 16647,  2860,  4680]),\n",
       " array([12603, 11230, 16980, ..., 15804,  6672,  5110]),\n",
       " array([ 8044, 13900, 12479, ..., 11258,  5042,  6833]),\n",
       " array([ 2846,  5886,  1751, ..., 15928,  5530,  3689]),\n",
       " array([17706,  2576, 13916, ..., 15773, 11022,  9077])]"
      ]
     },
     "execution_count": 74,
     "metadata": {},
     "output_type": "execute_result"
    }
   ],
   "source": [
    "folds"
   ]
  },
  {
   "cell_type": "code",
   "execution_count": 67,
   "metadata": {},
   "outputs": [
    {
     "data": {
      "text/plain": [
       "(16224,)"
      ]
     },
     "execution_count": 67,
     "metadata": {},
     "output_type": "execute_result"
    }
   ],
   "source": [
    "np.concatenate(folds[1:]).shape"
   ]
  },
  {
   "cell_type": "code",
   "execution_count": 70,
   "metadata": {
    "scrolled": true
   },
   "outputs": [],
   "source": [
    "a = [x for x in range(10) if x != 5]"
   ]
  },
  {
   "cell_type": "code",
   "execution_count": 73,
   "metadata": {},
   "outputs": [
    {
     "data": {
      "text/plain": [
       "array([14467,  5861, 16675, ..., 15773, 11022,  9077])"
      ]
     },
     "execution_count": 73,
     "metadata": {},
     "output_type": "execute_result"
    }
   ],
   "source": [
    "np.concatenate([folds[x] for x in a])"
   ]
  },
  {
   "cell_type": "code",
   "execution_count": 79,
   "metadata": {
    "scrolled": true
   },
   "outputs": [
    {
     "name": "stdout",
     "output_type": "stream",
     "text": [
      "0.7257653768177244\n",
      "0.5448253619297112\n",
      "0.7179475515727705\n",
      "0.5341469240524405\n",
      "0.7174527164119808\n",
      "0.5422208084050727\n",
      "0.7220564554324145\n",
      "0.556875158117055\n",
      "0.7147383659346092\n",
      "0.5517497180923925\n",
      "0.7395679771290787\n",
      "0.5577003594941696\n",
      "0.7077156238927382\n",
      "0.5042994381992159\n",
      "0.6927741107895358\n",
      "0.4951489032194222\n",
      "0.6960672694125087\n",
      "0.5019889071611603\n",
      "0.722219814040183\n",
      "0.5253074526859521\n"
     ]
    }
   ],
   "source": [
    "for fold in range(10):\n",
    "    test_set = design_matrix.iloc[folds[fold]]\n",
    "    # Subset the test_set to just the columns that we want\n",
    "    test_labels = test_set.loc[:, '1_yr_mortality'].copy()\n",
    "    test_set = test_set.drop(['intercept', '1_yr_mortality'], axis=1).copy()\n",
    "    \n",
    "    training_fold_indices = [_ for _ in range(10) if _ != fold]\n",
    "    training_set_indices = np.concatenate([folds[x] for x in training_fold_indices])\n",
    "    training_set = design_matrix.iloc[training_set_indices]\n",
    "    training_labels = training_set.loc[:, '1_yr_mortality'].copy()\n",
    "    training_set = training_set.drop(['intercept', '1_yr_mortality'], axis=1).copy()\n",
    "\n",
    "    temp_lr = LogisticRegression()\n",
    "    temp_lr.fit(training_set, training_labels)\n",
    "    # Get the predictions\n",
    "    temp_predictions = temp_lr.predict_proba(test_set)[:, 1]\n",
    "    print(roc_auc_score(test_labels, temp_predictions))\n",
    "    print(average_precision_score(test_labels, temp_predictions))"
   ]
  },
  {
   "cell_type": "code",
   "execution_count": 83,
   "metadata": {},
   "outputs": [],
   "source": [
    "fold_ = []\n",
    "penalty_ = []\n",
    "c_ = []\n",
    "auc_ = []\n",
    "avg_prec = []\n"
   ]
  },
  {
   "cell_type": "markdown",
   "metadata": {},
   "source": [
    " * Iterate through the folds (k)\n",
    "     - Get the current training set and test set\n",
    "     - Iterate through penalty parameter\n",
    "         - iterate through the C_ parameter\n",
    "             - Train the model\n",
    "             - Get the errors (AUC , avg_precision)\n",
    "             - Append those to global lists"
   ]
  },
  {
   "cell_type": "code",
   "execution_count": 81,
   "metadata": {
    "scrolled": true
   },
   "outputs": [
    {
     "data": {
      "text/plain": [
       "'c_array=array([1.00000000e-04, 3.16227766e-03, 1.00000000e-01, 3.16227766e+00,\\n       1.00000000e+02])'"
      ]
     },
     "execution_count": 81,
     "metadata": {},
     "output_type": "execute_result"
    }
   ],
   "source": [
    "f\"{c_array=}\""
   ]
  },
  {
   "cell_type": "code",
   "execution_count": 84,
   "metadata": {},
   "outputs": [
    {
     "name": "stdout",
     "output_type": "stream",
     "text": [
      "fold=0\n",
      "penalty='l1'\n",
      "c=0.0001\n",
      "fold=0\n",
      "penalty='l1'\n",
      "c=0.0031622776601683794\n",
      "fold=0\n",
      "penalty='l1'\n",
      "c=0.1\n",
      "fold=0\n",
      "penalty='l1'\n",
      "c=3.1622776601683795\n",
      "fold=0\n",
      "penalty='l1'\n",
      "c=100.0\n",
      "fold=0\n",
      "penalty='l2'\n",
      "c=0.0001\n",
      "fold=0\n",
      "penalty='l2'\n",
      "c=0.0031622776601683794\n",
      "fold=0\n",
      "penalty='l2'\n",
      "c=0.1\n",
      "fold=0\n",
      "penalty='l2'\n",
      "c=3.1622776601683795\n",
      "fold=0\n",
      "penalty='l2'\n",
      "c=100.0\n",
      "fold=1\n",
      "penalty='l1'\n",
      "c=0.0001\n",
      "fold=1\n",
      "penalty='l1'\n",
      "c=0.0031622776601683794\n",
      "fold=1\n",
      "penalty='l1'\n",
      "c=0.1\n",
      "fold=1\n",
      "penalty='l1'\n",
      "c=3.1622776601683795\n",
      "fold=1\n",
      "penalty='l1'\n",
      "c=100.0\n",
      "fold=1\n",
      "penalty='l2'\n",
      "c=0.0001\n",
      "fold=1\n",
      "penalty='l2'\n",
      "c=0.0031622776601683794\n",
      "fold=1\n",
      "penalty='l2'\n",
      "c=0.1\n",
      "fold=1\n",
      "penalty='l2'\n",
      "c=3.1622776601683795\n",
      "fold=1\n",
      "penalty='l2'\n",
      "c=100.0\n",
      "fold=2\n",
      "penalty='l1'\n",
      "c=0.0001\n",
      "fold=2\n",
      "penalty='l1'\n",
      "c=0.0031622776601683794\n",
      "fold=2\n",
      "penalty='l1'\n",
      "c=0.1\n",
      "fold=2\n",
      "penalty='l1'\n",
      "c=3.1622776601683795\n",
      "fold=2\n",
      "penalty='l1'\n",
      "c=100.0\n",
      "fold=2\n",
      "penalty='l2'\n",
      "c=0.0001\n",
      "fold=2\n",
      "penalty='l2'\n",
      "c=0.0031622776601683794\n",
      "fold=2\n",
      "penalty='l2'\n",
      "c=0.1\n",
      "fold=2\n",
      "penalty='l2'\n",
      "c=3.1622776601683795\n",
      "fold=2\n",
      "penalty='l2'\n",
      "c=100.0\n",
      "fold=3\n",
      "penalty='l1'\n",
      "c=0.0001\n",
      "fold=3\n",
      "penalty='l1'\n",
      "c=0.0031622776601683794\n",
      "fold=3\n",
      "penalty='l1'\n",
      "c=0.1\n",
      "fold=3\n",
      "penalty='l1'\n",
      "c=3.1622776601683795\n",
      "fold=3\n",
      "penalty='l1'\n",
      "c=100.0\n",
      "fold=3\n",
      "penalty='l2'\n",
      "c=0.0001\n",
      "fold=3\n",
      "penalty='l2'\n",
      "c=0.0031622776601683794\n",
      "fold=3\n",
      "penalty='l2'\n",
      "c=0.1\n",
      "fold=3\n",
      "penalty='l2'\n",
      "c=3.1622776601683795\n",
      "fold=3\n",
      "penalty='l2'\n",
      "c=100.0\n",
      "fold=4\n",
      "penalty='l1'\n",
      "c=0.0001\n",
      "fold=4\n",
      "penalty='l1'\n",
      "c=0.0031622776601683794\n",
      "fold=4\n",
      "penalty='l1'\n",
      "c=0.1\n",
      "fold=4\n",
      "penalty='l1'\n",
      "c=3.1622776601683795\n",
      "fold=4\n",
      "penalty='l1'\n",
      "c=100.0\n",
      "fold=4\n",
      "penalty='l2'\n",
      "c=0.0001\n",
      "fold=4\n",
      "penalty='l2'\n",
      "c=0.0031622776601683794\n",
      "fold=4\n",
      "penalty='l2'\n",
      "c=0.1\n",
      "fold=4\n",
      "penalty='l2'\n",
      "c=3.1622776601683795\n",
      "fold=4\n",
      "penalty='l2'\n",
      "c=100.0\n",
      "fold=5\n",
      "penalty='l1'\n",
      "c=0.0001\n",
      "fold=5\n",
      "penalty='l1'\n",
      "c=0.0031622776601683794\n",
      "fold=5\n",
      "penalty='l1'\n",
      "c=0.1\n",
      "fold=5\n",
      "penalty='l1'\n",
      "c=3.1622776601683795\n",
      "fold=5\n",
      "penalty='l1'\n",
      "c=100.0\n",
      "fold=5\n",
      "penalty='l2'\n",
      "c=0.0001\n",
      "fold=5\n",
      "penalty='l2'\n",
      "c=0.0031622776601683794\n",
      "fold=5\n",
      "penalty='l2'\n",
      "c=0.1\n",
      "fold=5\n",
      "penalty='l2'\n",
      "c=3.1622776601683795\n",
      "fold=5\n",
      "penalty='l2'\n",
      "c=100.0\n",
      "fold=6\n",
      "penalty='l1'\n",
      "c=0.0001\n",
      "fold=6\n",
      "penalty='l1'\n",
      "c=0.0031622776601683794\n",
      "fold=6\n",
      "penalty='l1'\n",
      "c=0.1\n",
      "fold=6\n",
      "penalty='l1'\n",
      "c=3.1622776601683795\n",
      "fold=6\n",
      "penalty='l1'\n",
      "c=100.0\n",
      "fold=6\n",
      "penalty='l2'\n",
      "c=0.0001\n",
      "fold=6\n",
      "penalty='l2'\n",
      "c=0.0031622776601683794\n",
      "fold=6\n",
      "penalty='l2'\n",
      "c=0.1\n",
      "fold=6\n",
      "penalty='l2'\n",
      "c=3.1622776601683795\n",
      "fold=6\n",
      "penalty='l2'\n",
      "c=100.0\n",
      "fold=7\n",
      "penalty='l1'\n",
      "c=0.0001\n",
      "fold=7\n",
      "penalty='l1'\n",
      "c=0.0031622776601683794\n",
      "fold=7\n",
      "penalty='l1'\n",
      "c=0.1\n",
      "fold=7\n",
      "penalty='l1'\n",
      "c=3.1622776601683795\n",
      "fold=7\n",
      "penalty='l1'\n",
      "c=100.0\n",
      "fold=7\n",
      "penalty='l2'\n",
      "c=0.0001\n",
      "fold=7\n",
      "penalty='l2'\n",
      "c=0.0031622776601683794\n",
      "fold=7\n",
      "penalty='l2'\n",
      "c=0.1\n",
      "fold=7\n",
      "penalty='l2'\n",
      "c=3.1622776601683795\n",
      "fold=7\n",
      "penalty='l2'\n",
      "c=100.0\n",
      "fold=8\n",
      "penalty='l1'\n",
      "c=0.0001\n",
      "fold=8\n",
      "penalty='l1'\n",
      "c=0.0031622776601683794\n",
      "fold=8\n",
      "penalty='l1'\n",
      "c=0.1\n",
      "fold=8\n",
      "penalty='l1'\n",
      "c=3.1622776601683795\n",
      "fold=8\n",
      "penalty='l1'\n",
      "c=100.0\n",
      "fold=8\n",
      "penalty='l2'\n",
      "c=0.0001\n",
      "fold=8\n",
      "penalty='l2'\n",
      "c=0.0031622776601683794\n",
      "fold=8\n",
      "penalty='l2'\n",
      "c=0.1\n",
      "fold=8\n",
      "penalty='l2'\n",
      "c=3.1622776601683795\n",
      "fold=8\n",
      "penalty='l2'\n",
      "c=100.0\n",
      "fold=9\n",
      "penalty='l1'\n",
      "c=0.0001\n",
      "fold=9\n",
      "penalty='l1'\n",
      "c=0.0031622776601683794\n",
      "fold=9\n",
      "penalty='l1'\n",
      "c=0.1\n",
      "fold=9\n",
      "penalty='l1'\n",
      "c=3.1622776601683795\n",
      "fold=9\n",
      "penalty='l1'\n",
      "c=100.0\n",
      "fold=9\n",
      "penalty='l2'\n",
      "c=0.0001\n",
      "fold=9\n",
      "penalty='l2'\n",
      "c=0.0031622776601683794\n",
      "fold=9\n",
      "penalty='l2'\n",
      "c=0.1\n",
      "fold=9\n",
      "penalty='l2'\n",
      "c=3.1622776601683795\n",
      "fold=9\n",
      "penalty='l2'\n",
      "c=100.0\n"
     ]
    }
   ],
   "source": [
    "for fold in range(10):\n",
    "    # ------\n",
    "    # Getting the training and test sets\n",
    "    test_set = design_matrix.iloc[folds[fold]]\n",
    "    # Subset the test_set to just the columns that we want\n",
    "    test_labels = test_set.loc[:, '1_yr_mortality'].copy()\n",
    "    test_set = test_set.drop(['intercept', '1_yr_mortality'], axis=1).copy()\n",
    "    \n",
    "    training_fold_indices = [_ for _ in range(10) if _ != fold]\n",
    "    training_set_indices = np.concatenate([folds[x] for x in training_fold_indices])\n",
    "    training_set = design_matrix.iloc[training_set_indices]\n",
    "    training_labels = training_set.loc[:, '1_yr_mortality'].copy()\n",
    "    training_set = training_set.drop(['intercept', '1_yr_mortality'], axis=1).copy()\n",
    "    \n",
    "    # --------\n",
    "    # Fit the models using some hyperparameters\n",
    "    for penalty in [\"l1\", \"l2\"]:\n",
    "        for c in c_array:\n",
    "            print(f\"{fold=}\")\n",
    "            print(f\"{penalty=}\")\n",
    "            print(f\"{c=}\")\n",
    "            fold_.append(fold + 1)\n",
    "            penalty_.append(penalty)\n",
    "            c_.append(c)\n",
    "            \n",
    "            # fit model\n",
    "            temp_auc, temp_average_prec = fit_model_get_metrics(penalty, c, training_set, \n",
    "                                                                test_set, training_labels, test_labels)\n",
    "            auc_.append(temp_auc)\n",
    "            avg_prec.append(temp_average_prec)"
   ]
  },
  {
   "cell_type": "code",
   "execution_count": 85,
   "metadata": {},
   "outputs": [],
   "source": [
    "result_df = pd.DataFrame({\n",
    "    \"Fold\": fold_,\n",
    "    \"Penalty\": penalty_,\n",
    "    \"C\": c_,\n",
    "    \"AUROC\": auc_,\n",
    "    \"Average Precision\": avg_prec\n",
    "})"
   ]
  },
  {
   "cell_type": "code",
   "execution_count": 86,
   "metadata": {},
   "outputs": [
    {
     "data": {
      "text/html": [
       "<div>\n",
       "<style scoped>\n",
       "    .dataframe tbody tr th:only-of-type {\n",
       "        vertical-align: middle;\n",
       "    }\n",
       "\n",
       "    .dataframe tbody tr th {\n",
       "        vertical-align: top;\n",
       "    }\n",
       "\n",
       "    .dataframe thead th {\n",
       "        text-align: right;\n",
       "    }\n",
       "</style>\n",
       "<table border=\"1\" class=\"dataframe\">\n",
       "  <thead>\n",
       "    <tr style=\"text-align: right;\">\n",
       "      <th></th>\n",
       "      <th>Fold</th>\n",
       "      <th>Penalty</th>\n",
       "      <th>C</th>\n",
       "      <th>AUROC</th>\n",
       "      <th>Average Precision</th>\n",
       "    </tr>\n",
       "  </thead>\n",
       "  <tbody>\n",
       "    <tr>\n",
       "      <th>0</th>\n",
       "      <td>1</td>\n",
       "      <td>l1</td>\n",
       "      <td>0.000100</td>\n",
       "      <td>0.500000</td>\n",
       "      <td>0.302274</td>\n",
       "    </tr>\n",
       "    <tr>\n",
       "      <th>1</th>\n",
       "      <td>1</td>\n",
       "      <td>l1</td>\n",
       "      <td>0.003162</td>\n",
       "      <td>0.690284</td>\n",
       "      <td>0.507808</td>\n",
       "    </tr>\n",
       "    <tr>\n",
       "      <th>2</th>\n",
       "      <td>1</td>\n",
       "      <td>l1</td>\n",
       "      <td>0.100000</td>\n",
       "      <td>0.726635</td>\n",
       "      <td>0.547222</td>\n",
       "    </tr>\n",
       "    <tr>\n",
       "      <th>3</th>\n",
       "      <td>1</td>\n",
       "      <td>l1</td>\n",
       "      <td>3.162278</td>\n",
       "      <td>0.725762</td>\n",
       "      <td>0.544839</td>\n",
       "    </tr>\n",
       "    <tr>\n",
       "      <th>4</th>\n",
       "      <td>1</td>\n",
       "      <td>l1</td>\n",
       "      <td>100.000000</td>\n",
       "      <td>0.725668</td>\n",
       "      <td>0.544724</td>\n",
       "    </tr>\n",
       "    <tr>\n",
       "      <th>...</th>\n",
       "      <td>...</td>\n",
       "      <td>...</td>\n",
       "      <td>...</td>\n",
       "      <td>...</td>\n",
       "      <td>...</td>\n",
       "    </tr>\n",
       "    <tr>\n",
       "      <th>95</th>\n",
       "      <td>10</td>\n",
       "      <td>l2</td>\n",
       "      <td>0.000100</td>\n",
       "      <td>0.705213</td>\n",
       "      <td>0.506370</td>\n",
       "    </tr>\n",
       "    <tr>\n",
       "      <th>96</th>\n",
       "      <td>10</td>\n",
       "      <td>l2</td>\n",
       "      <td>0.003162</td>\n",
       "      <td>0.717469</td>\n",
       "      <td>0.518605</td>\n",
       "    </tr>\n",
       "    <tr>\n",
       "      <th>97</th>\n",
       "      <td>10</td>\n",
       "      <td>l2</td>\n",
       "      <td>0.100000</td>\n",
       "      <td>0.722033</td>\n",
       "      <td>0.524943</td>\n",
       "    </tr>\n",
       "    <tr>\n",
       "      <th>98</th>\n",
       "      <td>10</td>\n",
       "      <td>l2</td>\n",
       "      <td>3.162278</td>\n",
       "      <td>0.722231</td>\n",
       "      <td>0.525323</td>\n",
       "    </tr>\n",
       "    <tr>\n",
       "      <th>99</th>\n",
       "      <td>10</td>\n",
       "      <td>l2</td>\n",
       "      <td>100.000000</td>\n",
       "      <td>0.722234</td>\n",
       "      <td>0.525298</td>\n",
       "    </tr>\n",
       "  </tbody>\n",
       "</table>\n",
       "<p>100 rows × 5 columns</p>\n",
       "</div>"
      ],
      "text/plain": [
       "    Fold Penalty           C     AUROC  Average Precision\n",
       "0      1      l1    0.000100  0.500000           0.302274\n",
       "1      1      l1    0.003162  0.690284           0.507808\n",
       "2      1      l1    0.100000  0.726635           0.547222\n",
       "3      1      l1    3.162278  0.725762           0.544839\n",
       "4      1      l1  100.000000  0.725668           0.544724\n",
       "..   ...     ...         ...       ...                ...\n",
       "95    10      l2    0.000100  0.705213           0.506370\n",
       "96    10      l2    0.003162  0.717469           0.518605\n",
       "97    10      l2    0.100000  0.722033           0.524943\n",
       "98    10      l2    3.162278  0.722231           0.525323\n",
       "99    10      l2  100.000000  0.722234           0.525298\n",
       "\n",
       "[100 rows x 5 columns]"
      ]
     },
     "execution_count": 86,
     "metadata": {},
     "output_type": "execute_result"
    }
   ],
   "source": [
    "result_df"
   ]
  },
  {
   "cell_type": "code",
   "execution_count": 87,
   "metadata": {},
   "outputs": [
    {
     "data": {
      "text/html": [
       "<div>\n",
       "<style scoped>\n",
       "    .dataframe tbody tr th:only-of-type {\n",
       "        vertical-align: middle;\n",
       "    }\n",
       "\n",
       "    .dataframe tbody tr th {\n",
       "        vertical-align: top;\n",
       "    }\n",
       "\n",
       "    .dataframe thead th {\n",
       "        text-align: right;\n",
       "    }\n",
       "</style>\n",
       "<table border=\"1\" class=\"dataframe\">\n",
       "  <thead>\n",
       "    <tr style=\"text-align: right;\">\n",
       "      <th></th>\n",
       "      <th>Penalty</th>\n",
       "      <th>C</th>\n",
       "      <th>AUROC</th>\n",
       "    </tr>\n",
       "  </thead>\n",
       "  <tbody>\n",
       "    <tr>\n",
       "      <th>0</th>\n",
       "      <td>l1</td>\n",
       "      <td>0.000100</td>\n",
       "      <td>0.500000</td>\n",
       "    </tr>\n",
       "    <tr>\n",
       "      <th>1</th>\n",
       "      <td>l1</td>\n",
       "      <td>0.003162</td>\n",
       "      <td>0.673330</td>\n",
       "    </tr>\n",
       "    <tr>\n",
       "      <th>2</th>\n",
       "      <td>l1</td>\n",
       "      <td>0.100000</td>\n",
       "      <td>0.715917</td>\n",
       "    </tr>\n",
       "    <tr>\n",
       "      <th>3</th>\n",
       "      <td>l1</td>\n",
       "      <td>3.162278</td>\n",
       "      <td>0.715649</td>\n",
       "    </tr>\n",
       "    <tr>\n",
       "      <th>4</th>\n",
       "      <td>l1</td>\n",
       "      <td>100.000000</td>\n",
       "      <td>0.715625</td>\n",
       "    </tr>\n",
       "    <tr>\n",
       "      <th>5</th>\n",
       "      <td>l2</td>\n",
       "      <td>0.000100</td>\n",
       "      <td>0.696656</td>\n",
       "    </tr>\n",
       "    <tr>\n",
       "      <th>6</th>\n",
       "      <td>l2</td>\n",
       "      <td>0.003162</td>\n",
       "      <td>0.709412</td>\n",
       "    </tr>\n",
       "    <tr>\n",
       "      <th>7</th>\n",
       "      <td>l2</td>\n",
       "      <td>0.100000</td>\n",
       "      <td>0.715516</td>\n",
       "    </tr>\n",
       "    <tr>\n",
       "      <th>8</th>\n",
       "      <td>l2</td>\n",
       "      <td>3.162278</td>\n",
       "      <td>0.715604</td>\n",
       "    </tr>\n",
       "    <tr>\n",
       "      <th>9</th>\n",
       "      <td>l2</td>\n",
       "      <td>100.000000</td>\n",
       "      <td>0.715623</td>\n",
       "    </tr>\n",
       "  </tbody>\n",
       "</table>\n",
       "</div>"
      ],
      "text/plain": [
       "  Penalty           C     AUROC\n",
       "0      l1    0.000100  0.500000\n",
       "1      l1    0.003162  0.673330\n",
       "2      l1    0.100000  0.715917\n",
       "3      l1    3.162278  0.715649\n",
       "4      l1  100.000000  0.715625\n",
       "5      l2    0.000100  0.696656\n",
       "6      l2    0.003162  0.709412\n",
       "7      l2    0.100000  0.715516\n",
       "8      l2    3.162278  0.715604\n",
       "9      l2  100.000000  0.715623"
      ]
     },
     "execution_count": 87,
     "metadata": {},
     "output_type": "execute_result"
    }
   ],
   "source": [
    "result_df.groupby([\"Penalty\", \"C\"], as_index=False)['AUROC'].mean()"
   ]
  },
  {
   "cell_type": "markdown",
   "metadata": {},
   "source": [
    "# Final Parameters:\n",
    " > Penalty = \"L1\"\n",
    "   c = 3.162278"
   ]
  },
  {
   "cell_type": "code",
   "execution_count": null,
   "metadata": {},
   "outputs": [],
   "source": []
  }
 ],
 "metadata": {
  "kernelspec": {
   "display_name": "Python 3",
   "language": "python",
   "name": "python3"
  },
  "language_info": {
   "codemirror_mode": {
    "name": "ipython",
    "version": 3
   },
   "file_extension": ".py",
   "mimetype": "text/x-python",
   "name": "python",
   "nbconvert_exporter": "python",
   "pygments_lexer": "ipython3",
   "version": "3.8.5"
  }
 },
 "nbformat": 4,
 "nbformat_minor": 4
}
